{
 "cells": [
  {
   "cell_type": "markdown",
   "metadata": {},
   "source": [
    "# Introduction \n",
    "\n",
    "In this article we are going to discuss our work on predicting House Prices. This is a classic regression problem in which we aim to predict the selling price of a house given its attributes. The motivation in doing such analysis is to provide real estate firms accurate information about expected values of properties. After creating the six models, we conduct an evaluation of each model by comparing its accuracy. This work is organized in the following way: \n",
    "\n",
    "1. Methodology\n",
    "1. Understanding and cleaning the data\n",
    "1. Linear Regression\n",
    "1. Random Forests  \n",
    "1. Suport Vector Machine\n",
    "1. Gradient Boosting\n",
    "1. Neural Network\n",
    "1. Bagging\n",
    "\n",
    " \n",
    "\n",
    "\n",
    "# Methodology\n",
    "\n",
    "\n",
    "As we are dealing with a regression problem, an appropriate metric is the Root Mean Squared Error or RMSE. The methodology we followed is:\n",
    "\n",
    "* Each method trained using 5-fold cross-validation.\n",
    "* Final RMSE,R2 is calculated based on the average results of all training steps.   \n",
    "\n",
    "Using cross-validation is a common way to assess the predictive performance of the models and to judge how they perform outside the sample (and assess their generalization strength).  \n",
    "\n",
    "\n",
    "# Understanding and cleaning the data\n",
    "Much of the work in making a good model is contingent on a good feature preparation process. This phase encompasses tasks such as: cleaning, feature mapping, feature selection, and feature scaling. In this section we describe the steps we did to get a better understanding of the data and to make it more appropriate for modeling analysis.\n",
    "\n",
    "\n",
    "## The data set\n",
    "\n",
    "The house prices [data set](https://www.kaggle.com/amitabhajoy/bengaluru-house-price-data) \n",
    "has 8 features and the objective is to predict SalePrice. "
   ]
  },
  {
   "cell_type": "code",
   "execution_count": 1,
   "metadata": {},
   "outputs": [
    {
     "name": "stdout",
     "output_type": "stream",
     "text": [
      "(13320, 9)\n"
     ]
    }
   ],
   "source": [
    "from sklearn import preprocessing\n",
    "import matplotlib.pyplot as plt\n",
    "import numpy as np\n",
    "import pandas as pd\n",
    "from sklearn.feature_extraction import DictVectorizer\n",
    "import seaborn as sns\n",
    "import warnings\n",
    "from scipy.stats import norm\n",
    "from scipy import stats\n",
    "warnings.filterwarnings('ignore')\n",
    "%matplotlib inline\n",
    "    \n",
    "data_train = pd.read_csv(\"Bengaluru_House_Data.csv\",na_values=['?',''],delimiter=',',delim_whitespace=False) # reading data from files\n",
    "\n",
    "\n",
    "print(data_train.shape)\n",
    "\n",
    "#print(data_test.shape)"
   ]
  },
  {
   "cell_type": "markdown",
   "metadata": {},
   "source": [
    "## Exploring the dataset\n",
    "\n",
    "Understanding the data is an important part of our project. The more we understand the data the more we will have the ability to accuratley select and manupilate the features to get the best possible results. In this section we explore possible correlations between the dependent and the independent variables (Figure 1). Linear regression models are sensitive to non-linearity, outliers and colinearity, so we are going also to check these potential problems. "
   ]
  },
  {
   "cell_type": "code",
   "execution_count": 2,
   "metadata": {},
   "outputs": [
    {
     "name": "stdout",
     "output_type": "stream",
     "text": [
      "<class 'pandas.core.frame.DataFrame'>\n",
      "RangeIndex: 13320 entries, 0 to 13319\n",
      "Data columns (total 9 columns):\n",
      "area_type       13320 non-null object\n",
      "availability    13320 non-null object\n",
      "location        13319 non-null object\n",
      "size            13304 non-null object\n",
      "society         7818 non-null object\n",
      "total_sqft      13320 non-null object\n",
      "bath            13247 non-null float64\n",
      "balcony         12711 non-null float64\n",
      "price           13320 non-null float64\n",
      "dtypes: float64(3), object(6)\n",
      "memory usage: 936.7+ KB\n"
     ]
    }
   ],
   "source": [
    "data_train.info()"
   ]
  },
  {
   "cell_type": "markdown",
   "metadata": {},
   "source": [
    "## Missing values\n",
    "\n",
    "Maybe the most common problem in real datasets is the missing values. Sometimes, instead of a blank space, a wildcard is used like '?' or 'NA'. In this project, in addition to the missing values we also have some 'NAs' used to denote the absence of features. To solve this issue, whenever appropriate we replace 'NA' by the value 'No'.\n"
   ]
  },
  {
   "cell_type": "code",
   "execution_count": 3,
   "metadata": {},
   "outputs": [
    {
     "data": {
      "text/plain": [
       "area_type       False\n",
       "availability    False\n",
       "location         True\n",
       "size             True\n",
       "society          True\n",
       "total_sqft      False\n",
       "bath             True\n",
       "balcony          True\n",
       "price           False\n",
       "dtype: bool"
      ]
     },
     "execution_count": 3,
     "metadata": {},
     "output_type": "execute_result"
    }
   ],
   "source": [
    "data_train.isnull().any()"
   ]
  },
  {
   "cell_type": "code",
   "execution_count": 4,
   "metadata": {},
   "outputs": [],
   "source": [
    "data_train = data_train.dropna(subset = ['size','bath','balcony','location'])"
   ]
  },
  {
   "cell_type": "code",
   "execution_count": 5,
   "metadata": {},
   "outputs": [],
   "source": [
    "data_train = data_train.fillna({'society': 'None'})"
   ]
  },
  {
   "cell_type": "code",
   "execution_count": 6,
   "metadata": {},
   "outputs": [
    {
     "data": {
      "text/plain": [
       "array(['Super built-up  Area', 'Plot  Area', 'Built-up  Area',\n",
       "       'Carpet  Area'], dtype=object)"
      ]
     },
     "execution_count": 6,
     "metadata": {},
     "output_type": "execute_result"
    }
   ],
   "source": [
    "data_train.area_type.unique()"
   ]
  },
  {
   "cell_type": "code",
   "execution_count": 7,
   "metadata": {},
   "outputs": [
    {
     "data": {
      "text/plain": [
       "(12710, 9)"
      ]
     },
     "execution_count": 7,
     "metadata": {},
     "output_type": "execute_result"
    }
   ],
   "source": [
    "data_train.shape"
   ]
  },
  {
   "cell_type": "code",
   "execution_count": 8,
   "metadata": {},
   "outputs": [
    {
     "name": "stdout",
     "output_type": "stream",
     "text": [
      "area_type ['Super built-up  Area' 'Plot  Area' 'Built-up  Area' 'Carpet  Area'] \t 4 \n",
      "\n",
      "availability ['19-Dec' 'Ready To Move' '18-Feb' '18-Nov' '18-May' '20-Dec' '17-Oct'\n",
      " '21-Dec' '19-Sep' '20-Sep' '18-Mar' '18-Apr' '20-Aug' '19-Mar' '17-Sep'\n",
      " '18-Dec' '17-Aug' '19-Apr' '18-Jun' '22-Dec' '22-Jan' '18-Aug' '19-Jan'\n",
      " '17-Jul' '18-Jul' '21-Jun' '20-May' '19-Aug' '18-Sep' '17-May' '17-Jun'\n",
      " '18-Oct' '21-May' '18-Jan' '20-Mar' '17-Dec' '16-Mar' '19-Jun' '22-Jun'\n",
      " '19-Jul' '21-Feb' '19-May' '17-Nov' '20-Oct' '20-Jun' '19-Feb' '21-Oct'\n",
      " '21-Jan' '17-Mar' '17-Apr' '22-May' '19-Oct' '21-Jul' '21-Nov' '21-Mar'\n",
      " '16-Dec' '22-Mar' '20-Jan' '21-Sep' '21-Aug' '14-Nov' '19-Nov' '16-Jul'\n",
      " '15-Jun' '20-Nov' '20-Jul' '16-Sep' '20-Feb' '15-Dec' '16-Oct' '22-Nov'\n",
      " '15-Aug' '17-Jan' '16-Nov' '20-Apr' '16-Jan' '17-Feb' '14-Jul'] \t 78 \n",
      "\n",
      "location ['Electronic City Phase II' 'Chikka Tirupathi' 'Uttarahalli' ...\n",
      " '12th cross srinivas nagar banshankari 3rd stage' 'Havanur extension'\n",
      " 'Abshot Layout'] \t 1265 \n",
      "\n",
      "size ['2 BHK' '4 Bedroom' '3 BHK' '3 Bedroom' '1 BHK' '1 RK' '4 BHK'\n",
      " '1 Bedroom' '2 Bedroom' '6 Bedroom' '8 Bedroom' '7 Bedroom' '5 BHK'\n",
      " '7 BHK' '6 BHK' '5 Bedroom' '11 BHK' '9 BHK' '9 Bedroom' '27 BHK'\n",
      " '11 Bedroom' '43 Bedroom' '14 BHK' '8 BHK' '12 Bedroom' '10 Bedroom'\n",
      " '13 BHK'] \t 27 \n",
      "\n",
      "society ['Coomee ' 'Theanmp' 'None' ... 'SJovest' 'ThhtsV ' 'RSntsAp'] \t 2593 \n",
      "\n",
      "total_sqft ['1056' '2600' '1440' ... '1133 - 1384' '774' '4689'] \t 1976 \n",
      "\n"
     ]
    }
   ],
   "source": [
    "object_data_train=data_train.select_dtypes(include =['object'])\n",
    "for i in object_data_train:\n",
    "    print(i,data_train[i].unique(),\"\\t\",len(data_train[i].unique()),\"\\n\")"
   ]
  },
  {
   "cell_type": "code",
   "execution_count": 9,
   "metadata": {},
   "outputs": [],
   "source": [
    "def change_to_float(area_size):\n",
    "    if isinstance(area_size, str):\n",
    "        area_size = area_size.split('Sq.')[0]\n",
    "        area_size = area_size.split('Perch')[0]\n",
    "        area_size = area_size.split('Acres')[0]\n",
    "        area_size = area_size.split('Guntha')[0]\n",
    "        area_size = area_size.split('Grounds')[0]\n",
    "        area_size = area_size.split('Cents')[0]\n",
    "        area_size = area_size.split('-')\n",
    "        area_size = list(map(float,area_size))\n",
    "        area_size = sum(area_size)  / len(area_size)\n",
    "    return area_size\n"
   ]
  },
  {
   "cell_type": "code",
   "execution_count": 10,
   "metadata": {},
   "outputs": [],
   "source": [
    "data_train['total_sqft'] = data_train['total_sqft'].apply(lambda x : change_to_float(x))"
   ]
  },
  {
   "cell_type": "code",
   "execution_count": 11,
   "metadata": {},
   "outputs": [
    {
     "data": {
      "image/png": "[encoded data removed]",
      "text/plain": [
       "<Figure size 432x288 with 1 Axes>"
      ]
     },
     "metadata": {
      "needs_background": "light"
     },
     "output_type": "display_data"
    }
   ],
   "source": [
    "ax = sns.regplot(x=data_train['total_sqft'], y=data_train['price'])\n",
    "plt.ylabel('price', fontsize= 13)\n",
    "plt.xlabel('total_sqft', fontsize= 13)\n",
    "plt.title('Figure 4 regplot of the TotalBsmtSF with the SalePrice', fontsize= 12);\n",
    "plt.show()"
   ]
  },
  {
   "cell_type": "code",
   "execution_count": 12,
   "metadata": {},
   "outputs": [
    {
     "data": {
      "text/html": [
       "<div>\n",
       "<style scoped>\n",
       "    .dataframe tbody tr th:only-of-type {\n",
       "        vertical-align: middle;\n",
       "    }\n",
       "\n",
       "    .dataframe tbody tr th {\n",
       "        vertical-align: top;\n",
       "    }\n",
       "\n",
       "    .dataframe thead th {\n",
       "        text-align: right;\n",
       "    }\n",
       "</style>\n",
       "<table border=\"1\" class=\"dataframe\">\n",
       "  <thead>\n",
       "    <tr style=\"text-align: right;\">\n",
       "      <th></th>\n",
       "      <th>area_type</th>\n",
       "      <th>availability</th>\n",
       "      <th>location</th>\n",
       "      <th>size</th>\n",
       "      <th>society</th>\n",
       "      <th>total_sqft</th>\n",
       "      <th>bath</th>\n",
       "      <th>balcony</th>\n",
       "      <th>price</th>\n",
       "    </tr>\n",
       "  </thead>\n",
       "  <tbody>\n",
       "    <tr>\n",
       "      <td>1894</td>\n",
       "      <td>Plot  Area</td>\n",
       "      <td>Ready To Move</td>\n",
       "      <td>Nelamangala</td>\n",
       "      <td>3 Bedroom</td>\n",
       "      <td>None</td>\n",
       "      <td>52272.0</td>\n",
       "      <td>2.0</td>\n",
       "      <td>1.0</td>\n",
       "      <td>140.0</td>\n",
       "    </tr>\n",
       "    <tr>\n",
       "      <td>5393</td>\n",
       "      <td>Super built-up  Area</td>\n",
       "      <td>Ready To Move</td>\n",
       "      <td>Doddabommasandra</td>\n",
       "      <td>9 BHK</td>\n",
       "      <td>None</td>\n",
       "      <td>42000.0</td>\n",
       "      <td>8.0</td>\n",
       "      <td>3.0</td>\n",
       "      <td>175.0</td>\n",
       "    </tr>\n",
       "  </tbody>\n",
       "</table>\n",
       "</div>"
      ],
      "text/plain": [
       "                 area_type   availability          location       size  \\\n",
       "1894            Plot  Area  Ready To Move       Nelamangala  3 Bedroom   \n",
       "5393  Super built-up  Area  Ready To Move  Doddabommasandra      9 BHK   \n",
       "\n",
       "     society  total_sqft  bath  balcony  price  \n",
       "1894    None     52272.0   2.0      1.0  140.0  \n",
       "5393    None     42000.0   8.0      3.0  175.0  "
      ]
     },
     "execution_count": 12,
     "metadata": {},
     "output_type": "execute_result"
    }
   ],
   "source": [
    "g_out = data_train.sort_values(by=\"total_sqft\", ascending = False).head(2)\n",
    "g_out"
   ]
  },
  {
   "cell_type": "code",
   "execution_count": 13,
   "metadata": {},
   "outputs": [],
   "source": [
    "data_train.drop([1894,5393,5469,674], inplace = True)\n"
   ]
  },
  {
   "cell_type": "code",
   "execution_count": 14,
   "metadata": {},
   "outputs": [
    {
     "data": {
      "image/png": "[encoded data removed]",
      "text/plain": [
       "<Figure size 432x288 with 1 Axes>"
      ]
     },
     "metadata": {
      "needs_background": "light"
     },
     "output_type": "display_data"
    }
   ],
   "source": [
    "ax = sns.regplot(x=data_train['bath'], y=data_train['price'])\n",
    "plt.ylabel('price', fontsize= 13)\n",
    "plt.xlabel('total_sqft', fontsize= 13)\n",
    "plt.title('Figure 4 regplot of the TotalBsmtSF with the SalePrice', fontsize= 12);\n",
    "plt.show()"
   ]
  },
  {
   "cell_type": "code",
   "execution_count": 15,
   "metadata": {},
   "outputs": [
    {
     "data": {
      "image/png": "[encoded data removed]",
      "text/plain": [
       "<Figure size 432x288 with 1 Axes>"
      ]
     },
     "metadata": {
      "needs_background": "light"
     },
     "output_type": "display_data"
    }
   ],
   "source": [
    "ax = sns.regplot(x=data_train['balcony'], y=data_train['price'])\n",
    "plt.ylabel('price', fontsize= 13)\n",
    "\n",
    "plt.xlabel('total_sqft', fontsize= 13)\n",
    "plt.title('Figure 4 regplot of the TotalBsmtSF with the SalePrice', fontsize= 12);\n",
    "plt.show()"
   ]
  },
  {
   "cell_type": "code",
   "execution_count": 16,
   "metadata": {},
   "outputs": [
    {
     "name": "stdout",
     "output_type": "stream",
     "text": [
      "['2 BHK' '4 Bedroom' '3 BHK' '3 Bedroom' '1 BHK' '1 RK' '4 BHK'\n",
      " '1 Bedroom' '2 Bedroom' '6 Bedroom' '8 Bedroom' '7 Bedroom' '5 BHK'\n",
      " '7 BHK' '6 BHK' '5 Bedroom' '11 BHK' '9 BHK' '9 Bedroom' '27 BHK'\n",
      " '11 Bedroom' '43 Bedroom' '14 BHK' '8 BHK' '12 Bedroom' '10 Bedroom'\n",
      " '13 BHK']\n"
     ]
    },
    {
     "data": {
      "text/plain": [
       "27"
      ]
     },
     "execution_count": 16,
     "metadata": {},
     "output_type": "execute_result"
    }
   ],
   "source": [
    "print(data_train['size'].unique())\n",
    "len(data_train['size'].unique())"
   ]
  },
  {
   "cell_type": "code",
   "execution_count": 17,
   "metadata": {},
   "outputs": [],
   "source": [
    "data_train['size'] = data_train['size'].apply(lambda x: x.split(' ')[0])"
   ]
  },
  {
   "cell_type": "code",
   "execution_count": 18,
   "metadata": {},
   "outputs": [
    {
     "name": "stdout",
     "output_type": "stream",
     "text": [
      "['2' '4' '3' '1' '6' '8' '7' '5' '11' '9' '27' '43' '14' '12' '10' '13']\n"
     ]
    },
    {
     "data": {
      "text/plain": [
       "16"
      ]
     },
     "execution_count": 18,
     "metadata": {},
     "output_type": "execute_result"
    }
   ],
   "source": [
    "print(data_train['size'].unique())\n",
    "len(data_train['size'].unique())"
   ]
  },
  {
   "cell_type": "code",
   "execution_count": 19,
   "metadata": {},
   "outputs": [],
   "source": [
    "data_train['society'] = data_train['society'].factorize()[0]+1\n",
    "data_train['location'] = data_train['location'].factorize()[0]+1"
   ]
  },
  {
   "cell_type": "code",
   "execution_count": 20,
   "metadata": {},
   "outputs": [
    {
     "data": {
      "image/png": "[encoded data removed]",
      "text/plain": [
       "<Figure size 432x288 with 1 Axes>"
      ]
     },
     "metadata": {
      "needs_background": "light"
     },
     "output_type": "display_data"
    }
   ],
   "source": [
    "ax = sns.regplot(x=data_train['society'], y=data_train['price'])\n",
    "plt.ylabel('price', fontsize= 13)\n",
    "\n",
    "plt.xlabel('total_sqft', fontsize= 13)\n",
    "plt.title('Figure 4 regplot of the TotalBsmtSF with the SalePrice', fontsize= 12);\n",
    "plt.show()"
   ]
  },
  {
   "cell_type": "code",
   "execution_count": 21,
   "metadata": {},
   "outputs": [
    {
     "data": {
      "image/png": "[encoded data removed]",
      "text/plain": [
       "<Figure size 432x288 with 1 Axes>"
      ]
     },
     "metadata": {
      "needs_background": "light"
     },
     "output_type": "display_data"
    }
   ],
   "source": [
    "ax = sns.regplot(x=data_train['location'], y=data_train['price'])\n",
    "plt.ylabel('price', fontsize= 13)\n",
    "\n",
    "plt.xlabel('total_sqft', fontsize= 13)\n",
    "plt.title('Figure 4 regplot of the TotalBsmtSF with the SalePrice', fontsize= 12);\n",
    "plt.show()"
   ]
  },
  {
   "cell_type": "code",
   "execution_count": null,
   "metadata": {},
   "outputs": [],
   "source": []
  },
  {
   "cell_type": "code",
   "execution_count": 22,
   "metadata": {},
   "outputs": [],
   "source": [
    "x_train_data = data_train[['size', 'total_sqft', 'bath', 'balcony']]\n",
    "y_train_data = data_train['price']"
   ]
  },
  {
   "cell_type": "code",
   "execution_count": 23,
   "metadata": {},
   "outputs": [
    {
     "name": "stdout",
     "output_type": "stream",
     "text": [
      "Index(['size', 'total_sqft', 'bath', 'balcony', 'price'], dtype='object')\n"
     ]
    },
    {
     "data": {
      "image/png": "[encoded data removed]",
      "text/plain": [
       "<Figure size 1152x1152 with 2 Axes>"
      ]
     },
     "metadata": {
      "needs_background": "light"
     },
     "output_type": "display_data"
    }
   ],
   "source": [
    "numerical_data = x_train_data.copy()\n",
    "numerical_data['price'] = y_train_data\n",
    "print(numerical_data.columns)\n",
    "corr_matrix = numerical_data.corr()\n",
    "plt.figure(figsize=(16,16))\n",
    "sns.heatmap(corr_matrix,annot=True)\n",
    "plt.show()\n",
    "        "
   ]
  },
  {
   "cell_type": "markdown",
   "metadata": {},
   "source": [
    "We can notice that some variables are strongly correlated with SalePrice. Specifically, these six features : OverallQual, GrlivArea, TotalBsmtSF, 1stFLrSF, GarageCars, and GrageArea. Moreover, some variables are strongly correlated with each other which means that we might have a multicollinearity. Subsequently, we need to take them into consideration when selecting and preparing the features to use in our modelling. For example there is a strong correlation between Yearbuilt and GarageYrBlt which means that most Garages are built in the same time with the construction of the houses.Therefeore,we can consider that Yearbuilt and GarageYrBlt as the same variable.\n",
    "The correlation matrix shows only the value of the correlation but it doesn't reveal the nature of the correaltion. On the other hand scatter or some other charts can show the nature of the correlation whether it is linear or has another shape."
   ]
  },
  {
   "cell_type": "code",
   "execution_count": 24,
   "metadata": {},
   "outputs": [],
   "source": [
    "RMSE =  {\n",
    "    'LinearRegression':[0.0],\n",
    "    'RandomForest':[0.0],\n",
    "    'SVM':[0.0],\n",
    "    'GradientBoosting':[0.0],\n",
    "    'NeuralNetwork':[0.0],\n",
    "    'Bagging':[0.0],\n",
    "}\n",
    "\n",
    "R2 = {\n",
    "    'LinearRegression':[0.0],\n",
    "    'RandomForest':[0.0],\n",
    "    'SVM':[0.0],\n",
    "    'GradientBoosting':[0.0],\n",
    "    'NeuralNetwork':[0.0],\n",
    "    'Bagging':[0.0],   \n",
    "}"
   ]
  },
  {
   "cell_type": "markdown",
   "metadata": {},
   "source": [
    "## Linear Regression\n",
    "\n",
    "In this section we are going to experiment with a set of regression methods in which the target value is expected to have a linear relationship with the input variables. \n",
    "\n",
    "###  Ordinary Least Squares\n",
    "\n",
    "Least Square Error is a well known mathematical measure of the performance of a linear regression model. LSE works by changing the coefficients of the model in a way that minimize the sum of squares between the true values and the predicted values. It solves a problem of the form:   $\\underset{w}{min\\,} {|| X w - y||_2}^2$ \n",
    "and can be solved analyticaly by the equation\n",
    "\n",
    "$$\\hat\\beta=(X^TX)^{-1}X^Ty$$\n",
    "\n",
    "Where X is a matrix of the independents features, y is the actual response and $\\hat\\beta$ the estimated weights w. "
   ]
  },
  {
   "cell_type": "code",
   "execution_count": 25,
   "metadata": {},
   "outputs": [
    {
     "name": "stdout",
     "output_type": "stream",
     "text": [
      "Linear Regression \n",
      "\n",
      "\n",
      " Average RMSE: 92.73535985828345\n",
      "\n",
      " R2 error: 0.5045195049608997\n"
     ]
    }
   ],
   "source": [
    "from sklearn.linear_model import LinearRegression, SGDRegressor, RidgeCV, Lasso, LassoCV, ElasticNetCV\n",
    "from sklearn import preprocessing\n",
    "\n",
    "\n",
    "from sklearn.model_selection import KFold\n",
    "from sklearn.model_selection import cross_val_score\n",
    "from sklearn.model_selection import cross_val_predict\n",
    "from sklearn   import metrics\n",
    "from sklearn.model_selection import train_test_split\n",
    "\n",
    "\n",
    "print(\"Linear Regression \\n\")\n",
    "\n",
    "x_train = x_train_data.copy()\n",
    "y_train = y_train_data.copy()\n",
    "\n",
    "#Cross validation\n",
    "classifierLinearRegression = LinearRegression(fit_intercept=True, normalize=False,\n",
    "                                              copy_X=True, n_jobs=1)\n",
    "kf = KFold(5, random_state=7, shuffle=True)    \n",
    "cv_y = []\n",
    "cv_pred = []\n",
    "fold = 0\n",
    "pred = []\n",
    "\n",
    "for training, test in kf.split(x_train):\n",
    "    fold+=1    \n",
    "    pred = []    \n",
    "    \n",
    "    scaler = preprocessing.StandardScaler(copy=True, with_mean=True, with_std=True)\n",
    "    x_train_fold = scaler.fit_transform(x_train)\n",
    "    x_test_fold = scaler.transform(x_train)\n",
    "\n",
    "    y_train_fold = y_train\n",
    "    y_test_fold = y_train\n",
    "    \n",
    "    classifierLinearRegression = classifierLinearRegression.fit(x_train_fold, y_train_fold)\n",
    "    pred = classifierLinearRegression.predict(x_test_fold)\n",
    "    cv_y.append(y_test_fold)\n",
    "    cv_pred.append(pred)        \n",
    "\n",
    "    \n",
    "#Calculating the error.\n",
    "cv_y = np.concatenate(cv_y)\n",
    "cv_pred = np.concatenate(cv_pred)\n",
    "score = np.sqrt(metrics.mean_squared_error(cv_y,cv_pred))\n",
    "print(\"\\n Average RMSE: {}\".format(score))    \n",
    "r2 = metrics.r2_score(cv_y,cv_pred)\n",
    "print(\"\\n R2 error: {}\".format(r2))\n",
    "\n",
    "RMSE['LinearRegression'] = score\n",
    "R2['LinearRegression'] = r2\n",
    "\n"
   ]
  },
  {
   "cell_type": "markdown",
   "metadata": {},
   "source": [
    "## Random Forest\n",
    "\n",
    "Random Forest is one of the most versatile and precise classifier. It does not need the data being scaled and can deal with any number of features. In order to test the random forest algorithm a little further than the others, we decided to train it using different train sets. First, with a data set containing all the features and no scaling. Second, in the reduced train set with scaled features. \n",
    "\n",
    "As we can see in the results bellow, it did well in both cases. This test was also interesting to validate our set of selected features. Seems they are really good options once the performance using the the full set is not significatively better than using the restricted set. \n",
    "\n",
    "After some experimentation, the configuration we chose was: the number of trees is 500 as any greater value did not enhance the accuracy, MSE as the function to measure the quality of a split, max_depth with None which means the nodes are expanded until all leaves are pure or until all leaves contain less than min_samples_split samples, max_features = auto to consider all the features when looking for the best split and bootstrap = True for replacement as it gave better results during the tests. All the others parameters were maintained in their default values.   "
   ]
  },
  {
   "cell_type": "code",
   "execution_count": 26,
   "metadata": {},
   "outputs": [
    {
     "name": "stdout",
     "output_type": "stream",
     "text": [
      "RandomForest \n",
      "\n",
      "\n",
      " Average RMSE: 44.39814007051774\n",
      "\n",
      " R2 error: 0.8864295376855305\n"
     ]
    }
   ],
   "source": [
    "from sklearn.ensemble import RandomForestRegressor\n",
    "\n",
    "from sklearn.model_selection import KFold\n",
    "from sklearn.model_selection import cross_val_score\n",
    "from sklearn.model_selection import cross_val_predict\n",
    "from sklearn   import metrics\n",
    "from sklearn.model_selection import train_test_split\n",
    "\n",
    "\n",
    "print(\"RandomForest \\n\")\n",
    "\n",
    "x_train = x_train_data.copy()\n",
    "y_train = y_train_data.copy()\n",
    "\n",
    "#Cross validation\n",
    "classifierRandomFprest = RandomForestRegressor(n_estimators=500, criterion='mse', \n",
    "                max_depth=None, min_samples_split=2, min_samples_leaf=1,\n",
    "                min_weight_fraction_leaf=0.0, max_features='auto', max_leaf_nodes=None, \n",
    "                min_impurity_decrease=0.0, min_impurity_split=None, bootstrap=True,\n",
    "                oob_score=False, n_jobs=1, random_state=0, verbose=0, warm_start=False)\n",
    "kf = KFold(5, random_state=7, shuffle=True)    \n",
    "cv_y = []\n",
    "cv_pred = []\n",
    "fold = 0\n",
    "pred = []\n",
    "\n",
    "for training, test in kf.split(x_train):\n",
    "    fold+=1    \n",
    "    pred = []    \n",
    "    \n",
    "    scaler = preprocessing.StandardScaler(copy=True, with_mean=True, with_std=True)\n",
    "    x_train_fold = scaler.fit_transform(x_train)\n",
    "    x_test_fold = scaler.transform(x_train)\n",
    "\n",
    "    y_train_fold = y_train\n",
    "    y_test_fold = y_train\n",
    "    \n",
    "    classifierRandomFprest = classifierRandomFprest.fit(x_train_fold, y_train_fold)\n",
    "    pred = classifierRandomFprest.predict(x_test_fold)\n",
    "    cv_y.append(y_test_fold)\n",
    "    cv_pred.append(pred)        \n",
    "\n",
    "    \n",
    "#Calculating the error.\n",
    "cv_y = np.concatenate(cv_y)\n",
    "cv_pred = np.concatenate(cv_pred)\n",
    "score = np.sqrt(metrics.mean_squared_error(cv_y,cv_pred))\n",
    "print(\"\\n Average RMSE: {}\".format(score)) \n",
    "r2 = metrics.r2_score(cv_y,cv_pred)\n",
    "print(\"\\n R2 error: {}\".format(r2))\n",
    "\n",
    "RMSE['RandomForest'] = score\n",
    "R2['RandomForest'] = r2"
   ]
  },
  {
   "cell_type": "markdown",
   "metadata": {},
   "source": [
    "## Support Vector Machine\n",
    "\n",
    "SVM is a large margin classifier. The rationale behind having decision boundaries with large margins is that they tend to have a lower generalization error. Whereas, models with small margins are more\n",
    "prone to overfitting. We can control the width of the margin using the regularization parameter C. Lower values of C give smaller margins and vice versa. \n",
    "\n",
    "We have used the linear kernel as it gave far the best result when comparing to rbf or sigmoid. It is a sign that a linear fit is well adjusted to the true data and also can explain that no regularization was necessary. The best value for C was 1. We kept the other parameters in their default values."
   ]
  },
  {
   "cell_type": "code",
   "execution_count": 27,
   "metadata": {},
   "outputs": [
    {
     "name": "stdout",
     "output_type": "stream",
     "text": [
      "SVM\n",
      "\n",
      "\n",
      " Average RMSE: 44.39814007051774\n",
      "\n",
      " R2 error: 0.8864295376855305\n"
     ]
    }
   ],
   "source": [
    "from sklearn.svm import SVR\n",
    "\n",
    "\n",
    "from sklearn.model_selection import KFold\n",
    "from sklearn.model_selection import cross_val_score\n",
    "from sklearn.model_selection import cross_val_predict\n",
    "from sklearn   import metrics\n",
    "from sklearn.model_selection import train_test_split\n",
    "\n",
    "print(\"SVM\\n\")\n",
    "\n",
    "x_train = x_train_data.copy()\n",
    "y_train = y_train_data.copy()\n",
    "\n",
    "#Cross validation\n",
    "classifierSVM = SVR(kernel = 'linear', gamma='auto', coef0=0.0, tol=0.001)\n",
    "kf = KFold(5, random_state=7, shuffle=True)    \n",
    "cv_y = []\n",
    "cv_pred = []\n",
    "fold = 0\n",
    "pred = []\n",
    "\n",
    "for training, test in kf.split(x_train):\n",
    "    fold+=1    \n",
    "    pred = []    \n",
    "    \n",
    "    scaler = preprocessing.StandardScaler(copy=True, with_mean=True, with_std=True)\n",
    "    x_train_fold = scaler.fit_transform(x_train)\n",
    "    x_test_fold = scaler.transform(x_train)\n",
    "\n",
    "    y_train_fold = y_train\n",
    "    y_test_fold = y_train\n",
    "    \n",
    "    classifierSVM = classifierSVM.fit(x_train_fold, y_train_fold)\n",
    "    pred = classifierRandomFprest.predict(x_test_fold)\n",
    "    cv_y.append(y_test_fold)\n",
    "    cv_pred.append(pred)        \n",
    "\n",
    "    \n",
    "#Calculating the error.\n",
    "cv_y = np.concatenate(cv_y)\n",
    "cv_pred = np.concatenate(cv_pred)\n",
    "score = np.sqrt(metrics.mean_squared_error(cv_y,cv_pred))\n",
    "print(\"\\n Average RMSE: {}\".format(score))    \n",
    "r2 = metrics.r2_score(cv_y,cv_pred)\n",
    "print(\"\\n R2 error: {}\".format(r2))\n",
    "\n",
    "RMSE['SVM'] = score\n",
    "R2['SVM'] = r2"
   ]
  },
  {
   "cell_type": "markdown",
   "metadata": {},
   "source": [
    "## Gradient Boosting\n",
    "Gradient boosting is a machine learning technique for regression and classification problems, which produces a prediction model in the form of an ensemble of weak prediction models, typically decision trees. It builds the model in a stage-wise fashion like other boosting methods do, and it generalizes them by allowing optimization of an arbitrary differentiable loss function.\n",
    "\n",
    "![title](GB.png)"
   ]
  },
  {
   "cell_type": "code",
   "execution_count": 28,
   "metadata": {},
   "outputs": [
    {
     "name": "stdout",
     "output_type": "stream",
     "text": [
      "Gradient Boosting \n",
      "\n",
      "\n",
      " Average RMSE: 44.39814007051774\n",
      "\n",
      " R2 error: 0.8864295376855305\n"
     ]
    }
   ],
   "source": [
    "from sklearn.ensemble import GradientBoostingRegressor\n",
    "\n",
    "from sklearn.model_selection import KFold\n",
    "from sklearn.model_selection import cross_val_score\n",
    "from sklearn.model_selection import cross_val_predict\n",
    "from sklearn   import metrics\n",
    "from sklearn.model_selection import train_test_split\n",
    "\n",
    "\n",
    "print(\"Gradient Boosting \\n\")\n",
    "\n",
    "x_train = x_train_data.copy()\n",
    "y_train = y_train_data.copy()\n",
    "\n",
    "#Cross validation\n",
    "classifierGradientBoost = GradientBoostingRegressor(n_estimators=500)\n",
    "kf = KFold(5, random_state=7, shuffle=True)    \n",
    "cv_y = []\n",
    "cv_pred = []\n",
    "fold = 0\n",
    "pred = []\n",
    "\n",
    "for training, test in kf.split(x_train):\n",
    "    fold+=1    \n",
    "    pred = []    \n",
    "    \n",
    "    scaler = preprocessing.StandardScaler(copy=True, with_mean=True, with_std=True)\n",
    "    x_train_fold = scaler.fit_transform(x_train)\n",
    "    x_test_fold = scaler.transform(x_train)\n",
    "\n",
    "    y_train_fold = y_train\n",
    "    y_test_fold = y_train\n",
    "    \n",
    "    classifierGradientBoost = classifierGradientBoost.fit(x_train_fold, y_train_fold)\n",
    "    pred = classifierRandomFprest.predict(x_test_fold)\n",
    "    cv_y.append(y_test_fold)\n",
    "    cv_pred.append(pred)        \n",
    "\n",
    "    \n",
    "#Calculating the error.\n",
    "cv_y = np.concatenate(cv_y)\n",
    "cv_pred = np.concatenate(cv_pred)\n",
    "score = np.sqrt(metrics.mean_squared_error(cv_y,cv_pred))\n",
    "print(\"\\n Average RMSE: {}\".format(score)) \n",
    "r2 = metrics.r2_score(cv_y,cv_pred)\n",
    "print(\"\\n R2 error: {}\".format(r2))\n",
    "\n",
    "RMSE['GradientBoosting'] = score\n",
    "R2['GradientBoosting'] = r2"
   ]
  },
  {
   "cell_type": "markdown",
   "metadata": {},
   "source": [
    "## Multilayer Perceptron\n",
    "\n",
    "Multi-layer Perceptron (MLP) is a supervised learning algorithm. Given a set of features X = {x_1, x_2, ..., x_m} and a target y, it can learn a non-linear function for either classification or regression. \n",
    "\n",
    "The class we are using in our work is the MLPRegressor which implements a multi-layer perceptron that trains using backpropagation with no activation function in the output layer (uses the identity function as activation function). Therefore, it uses the square error as the loss function, and the output is a set of continuous values.\n",
    "\n",
    "A one hidden layer MLP has a function in the form:$$f : R^D -> R^L$$ where D is the size of input vector x, and L is the size of the output vector f(x). \n",
    "\n",
    "We think this model the most difficult to find a good adjustment of complexity. We have tested some configurations and the best set of parameters was: learning rate of 0.001, a ReLu activation function for the hidden layers as this can speed up the learning process, a small value for the regularization parameter alpha of 0.0001 which means an agressive regularization and a net of three hidden layers with 80, 50 and 20 neurons respectively. Even so, it was not enough to get comparable results with the other models. "
   ]
  },
  {
   "cell_type": "code",
   "execution_count": 29,
   "metadata": {},
   "outputs": [
    {
     "name": "stdout",
     "output_type": "stream",
     "text": [
      "Neural Network\n",
      "\n",
      "\n",
      " Average RMSE: 44.39814007051774\n",
      "\n",
      " R2 error: 0.8864295376855305\n"
     ]
    }
   ],
   "source": [
    "from sklearn.neural_network import MLPRegressor\n",
    "\n",
    "from sklearn.model_selection import KFold\n",
    "from sklearn.model_selection import cross_val_score\n",
    "from sklearn.model_selection import cross_val_predict\n",
    "from sklearn   import metrics\n",
    "from sklearn.model_selection import train_test_split\n",
    "\n",
    "\n",
    "print(\"Neural Network\\n\")\n",
    "\n",
    "x_train = x_train_data.copy()\n",
    "y_train = y_train_data.copy()\n",
    "\n",
    "#Cross validation\n",
    "classifierMLP= MLPRegressor(hidden_layer_sizes=(100,50,20),random_state = 1)\n",
    "kf = KFold(5, random_state=7, shuffle=True)    \n",
    "cv_y = []\n",
    "cv_pred = []\n",
    "fold = 0\n",
    "pred = []\n",
    "\n",
    "for training, test in kf.split(x_train):\n",
    "    fold+=1    \n",
    "    pred = []    \n",
    "    \n",
    "    scaler = preprocessing.StandardScaler(copy=True, with_mean=True, with_std=True)\n",
    "    x_train_fold = scaler.fit_transform(x_train)\n",
    "    x_test_fold = scaler.transform(x_train)\n",
    "\n",
    "    y_train_fold = y_train\n",
    "    y_test_fold = y_train\n",
    "    \n",
    "    classifierMLP = classifierMLP.fit(x_train_fold, y_train_fold)\n",
    "    pred = classifierRandomFprest.predict(x_test_fold)\n",
    "    cv_y.append(y_test_fold)\n",
    "    cv_pred.append(pred)        \n",
    "\n",
    "    \n",
    "#Calculating the error.\n",
    "cv_y = np.concatenate(cv_y)\n",
    "cv_pred = np.concatenate(cv_pred)\n",
    "score = np.sqrt(metrics.mean_squared_error(cv_y,cv_pred))\n",
    "print(\"\\n Average RMSE: {}\".format(score)) \n",
    "r2 = metrics.r2_score(cv_y,cv_pred)\n",
    "print(\"\\n R2 error: {}\".format(r2))\n",
    "\n",
    "RMSE['NeuralNetwork'] = score\n",
    "R2['NeuralNetwork'] = r2"
   ]
  },
  {
   "cell_type": "markdown",
   "metadata": {},
   "source": [
    "## Bagging\n",
    "\n",
    "Bootstrap aggregating, also called bagging (from bootstrap aggregating), is a machine learning ensemble meta-algorithm designed to improve the stability and accuracy of machine learning algorithms used in statistical classification and regression. It also reduces variance and helps to avoid overfitting. Although it is usually applied to decision tree methods, it can be used with any type of method. Bagging is a special case of the model averaging approach.\n",
    "\n",
    "![title](BG.png)"
   ]
  },
  {
   "cell_type": "code",
   "execution_count": 30,
   "metadata": {},
   "outputs": [
    {
     "name": "stdout",
     "output_type": "stream",
     "text": [
      "Bagging\n",
      "\n",
      "\n",
      " Average RMSE: 44.39814007051774\n",
      "\n",
      " R2 error: 0.8864295376855305\n"
     ]
    }
   ],
   "source": [
    "from sklearn.svm import SVR\n",
    "from sklearn.ensemble import BaggingRegressor\n",
    "\n",
    "from sklearn.model_selection import KFold\n",
    "from sklearn.model_selection import cross_val_score\n",
    "from sklearn.model_selection import cross_val_predict\n",
    "from sklearn   import metrics\n",
    "from sklearn.model_selection import train_test_split\n",
    "\n",
    "\n",
    "print(\"Bagging\\n\")\n",
    "\n",
    "x_train = x_train_data.copy()\n",
    "y_train = y_train_data.copy()\n",
    "\n",
    "#Cross validation\n",
    "classifierBagging= BaggingRegressor(random_state = 1)\n",
    "kf = KFold(5, random_state=7, shuffle=True)    \n",
    "cv_y = []\n",
    "cv_pred = []\n",
    "fold = 0\n",
    "pred = []\n",
    "\n",
    "for training, test in kf.split(x_train):\n",
    "    fold+=1    \n",
    "    pred = []    \n",
    "    \n",
    "    scaler = preprocessing.StandardScaler(copy=True, with_mean=True, with_std=True)\n",
    "    x_train_fold = scaler.fit_transform(x_train)\n",
    "    x_test_fold = scaler.transform(x_train)\n",
    "\n",
    "    y_train_fold = y_train\n",
    "    y_test_fold = y_train\n",
    "    \n",
    "    classifierBagging = classifierBagging.fit(x_train_fold, y_train_fold)\n",
    "    pred = classifierRandomFprest.predict(x_test_fold)\n",
    "    cv_y.append(y_test_fold)\n",
    "    cv_pred.append(pred)        \n",
    "\n",
    "    \n",
    "#Calculating the error.\n",
    "cv_y = np.concatenate(cv_y)\n",
    "cv_pred = np.concatenate(cv_pred)\n",
    "score = np.sqrt(metrics.mean_squared_error(cv_y,cv_pred))\n",
    "print(\"\\n Average RMSE: {}\".format(score)) \n",
    "r2 = metrics.r2_score(cv_y,cv_pred)\n",
    "print(\"\\n R2 error: {}\".format(r2))\n",
    "\n",
    "RMSE['Bagging'] = score\n",
    "R2['Bagging'] = r2"
   ]
  },
  {
   "cell_type": "code",
   "execution_count": 31,
   "metadata": {},
   "outputs": [
    {
     "data": {
      "text/plain": [
       "([<matplotlib.axis.XTick at 0x2b2fefbe788>,\n",
       "  <matplotlib.axis.XTick at 0x2b2fefd0648>,\n",
       "  <matplotlib.axis.XTick at 0x2b2fefd0a48>,\n",
       "  <matplotlib.axis.XTick at 0x2b2fefc4b08>,\n",
       "  <matplotlib.axis.XTick at 0x2b2fefd9988>,\n",
       "  <matplotlib.axis.XTick at 0x2b2feef0148>],\n",
       " <a list of 6 Text xticklabel objects>)"
      ]
     },
     "execution_count": 31,
     "metadata": {},
     "output_type": "execute_result"
    },
    {
     "data": {
      "image/png": "[encoded data removed]",
      "text/plain": [
       "<Figure size 720x720 with 1 Axes>"
      ]
     },
     "metadata": {
      "needs_background": "light"
     },
     "output_type": "display_data"
    }
   ],
   "source": [
    "plt.figure(figsize=(10,10))\n",
    "plt.title('Comparing RMSE scores of each algorithm')\n",
    "plt.bar(range(len(RMSE)), list(RMSE.values()), align='center')\n",
    "plt.xticks(range(len(RMSE)), list(RMSE.keys()))"
   ]
  },
  {
   "cell_type": "code",
   "execution_count": 32,
   "metadata": {},
   "outputs": [
    {
     "data": {
      "text/plain": [
       "([<matplotlib.axis.XTick at 0x2b2ff01d988>,\n",
       "  <matplotlib.axis.XTick at 0x2b2ff018fc8>,\n",
       "  <matplotlib.axis.XTick at 0x2b2ff0182c8>,\n",
       "  <matplotlib.axis.XTick at 0x2b2fef84c48>,\n",
       "  <matplotlib.axis.XTick at 0x2b2fef7f348>,\n",
       "  <matplotlib.axis.XTick at 0x2b2fef7fa88>],\n",
       " <a list of 6 Text xticklabel objects>)"
      ]
     },
     "execution_count": 32,
     "metadata": {},
     "output_type": "execute_result"
    },
    {
     "data": {
      "image/png": "[encoded data removed]",
      "text/plain": [
       "<Figure size 720x720 with 1 Axes>"
      ]
     },
     "metadata": {
      "needs_background": "light"
     },
     "output_type": "display_data"
    }
   ],
   "source": [
    "plt.figure(figsize=(10,10))\n",
    "plt.title('Comparing R2 scores of each algorithm')\n",
    "plt.bar(range(len(R2)), list(R2.values()), align='center')\n",
    "plt.xticks(range(len(R2)), list(R2.keys()))\n"
   ]
  },
  {
   "cell_type": "code",
   "execution_count": null,
   "metadata": {},
   "outputs": [],
   "source": []
  },
  {
   "cell_type": "code",
   "execution_count": null,
   "metadata": {},
   "outputs": [],
   "source": []
  }
 ],
 "metadata": {
  "kernelspec": {
   "display_name": "Python 3",
   "language": "python",
   "name": "python3"
  },
  "language_info": {
   "codemirror_mode": {
    "name": "ipython",
    "version": 3
   },
   "file_extension": ".py",
   "mimetype": "text/x-python",
   "name": "python",
   "nbconvert_exporter": "python",
   "pygments_lexer": "ipython3",
   "version": "3.7.4"
  }
 },
 "nbformat": 4,
 "nbformat_minor": 2
}
