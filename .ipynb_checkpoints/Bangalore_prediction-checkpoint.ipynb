{
 "cells": [
  {
   "cell_type": "code",
   "execution_count": 1,
   "metadata": {},
   "outputs": [
    {
     "name": "stdout",
     "output_type": "stream",
     "text": [
      "(13320, 9)\n"
     ]
    }
   ],
   "source": [
    "from sklearn import preprocessing\n",
    "import matplotlib.pyplot as plt\n",
    "import numpy as np\n",
    "import pandas as pd\n",
    "from sklearn.feature_extraction import DictVectorizer\n",
    "import seaborn as sns\n",
    "import warnings\n",
    "from scipy.stats import norm\n",
    "from scipy import stats\n",
    "warnings.filterwarnings('ignore')\n",
    "%matplotlib inline\n",
    "    \n",
    "data_train = pd.read_csv(\"Bengaluru_House_Data.csv\",na_values=['?',''],delimiter=',',delim_whitespace=False) # reading data from files\n",
    "#data_test = pd.read_csv(\"test.csv\",na_values=['?',''],delimiter=',',delim_whitespace=False)\n",
    "\n",
    "print(data_train.shape)\n",
    "\n",
    "#print(data_test.shape)"
   ]
  },
  {
   "cell_type": "code",
   "execution_count": 2,
   "metadata": {},
   "outputs": [
    {
     "name": "stdout",
     "output_type": "stream",
     "text": [
      "<class 'pandas.core.frame.DataFrame'>\n",
      "RangeIndex: 13320 entries, 0 to 13319\n",
      "Data columns (total 9 columns):\n",
      "area_type       13320 non-null object\n",
      "availability    13320 non-null object\n",
      "location        13319 non-null object\n",
      "size            13304 non-null object\n",
      "society         7818 non-null object\n",
      "total_sqft      13320 non-null object\n",
      "bath            13247 non-null float64\n",
      "balcony         12711 non-null float64\n",
      "price           13320 non-null float64\n",
      "dtypes: float64(3), object(6)\n",
      "memory usage: 936.7+ KB\n"
     ]
    }
   ],
   "source": [
    "data_train.info()"
   ]
  },
  {
   "cell_type": "code",
   "execution_count": 3,
   "metadata": {},
   "outputs": [
    {
     "data": {
      "text/plain": [
       "area_type       False\n",
       "availability    False\n",
       "location         True\n",
       "size             True\n",
       "society          True\n",
       "total_sqft      False\n",
       "bath             True\n",
       "balcony          True\n",
       "price           False\n",
       "dtype: bool"
      ]
     },
     "execution_count": 3,
     "metadata": {},
     "output_type": "execute_result"
    }
   ],
   "source": [
    "data_train.isnull().any()"
   ]
  },
  {
   "cell_type": "code",
   "execution_count": 6,
   "metadata": {},
   "outputs": [],
   "source": [
    "data_train['size'] = data_train['size'].dropna()"
   ]
  },
  {
   "cell_type": "code",
   "execution_count": 9,
   "metadata": {},
   "outputs": [
    {
     "data": {
      "text/plain": [
       "(7496, 9)"
      ]
     },
     "execution_count": 9,
     "metadata": {},
     "output_type": "execute_result"
    }
   ],
   "source": [
    "data_train.shape"
   ]
  }
 ],
 "metadata": {
  "kernelspec": {
   "display_name": "Python 3",
   "language": "python",
   "name": "python3"
  },
  "language_info": {
   "codemirror_mode": {
    "name": "ipython",
    "version": 3
   },
   "file_extension": ".py",
   "mimetype": "text/x-python",
   "name": "python",
   "nbconvert_exporter": "python",
   "pygments_lexer": "ipython3",
   "version": "3.7.4"
  }
 },
 "nbformat": 4,
 "nbformat_minor": 2
}
